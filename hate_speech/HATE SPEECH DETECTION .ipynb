{
 "cells": [
  {
   "cell_type": "code",
   "execution_count": 1,
   "id": "47b6877f-86bb-4f9e-9ea4-ec6ec971c2b6",
   "metadata": {},
   "outputs": [
    {
     "name": "stdout",
     "output_type": "stream",
     "text": [
      "Requirement already satisfied: pysentimiento in c:\\users\\hp\\appdata\\local\\programs\\python\\python312\\lib\\site-packages (0.7.3)\n",
      "Requirement already satisfied: accelerate>=0.27.2 in c:\\users\\hp\\appdata\\local\\programs\\python\\python312\\lib\\site-packages (from pysentimiento) (0.34.2)\n",
      "Requirement already satisfied: datasets>=2.10.1 in c:\\users\\hp\\appdata\\local\\programs\\python\\python312\\lib\\site-packages (from pysentimiento) (2.21.0)\n",
      "Requirement already satisfied: emoji>=1.6.1 in c:\\users\\hp\\appdata\\local\\programs\\python\\python312\\lib\\site-packages (from pysentimiento) (2.12.1)\n",
      "Requirement already satisfied: spacy>=3.5.0 in c:\\users\\hp\\appdata\\local\\programs\\python\\python312\\lib\\site-packages (from pysentimiento) (3.7.6)\n",
      "Requirement already satisfied: torch!=2.0.1,>=2.0.0 in c:\\users\\hp\\appdata\\local\\programs\\python\\python312\\lib\\site-packages (from pysentimiento) (2.4.1)\n",
      "Requirement already satisfied: transformers>=4.13.0 in c:\\users\\hp\\appdata\\local\\programs\\python\\python312\\lib\\site-packages (from pysentimiento) (4.44.2)\n",
      "Requirement already satisfied: numpy<3.0.0,>=1.17 in c:\\users\\hp\\appdata\\local\\programs\\python\\python312\\lib\\site-packages (from accelerate>=0.27.2->pysentimiento) (1.26.4)\n",
      "Requirement already satisfied: packaging>=20.0 in c:\\users\\hp\\appdata\\local\\programs\\python\\python312\\lib\\site-packages (from accelerate>=0.27.2->pysentimiento) (24.0)\n",
      "Requirement already satisfied: psutil in c:\\users\\hp\\appdata\\local\\programs\\python\\python312\\lib\\site-packages (from accelerate>=0.27.2->pysentimiento) (5.9.8)\n",
      "Requirement already satisfied: pyyaml in c:\\users\\hp\\appdata\\local\\programs\\python\\python312\\lib\\site-packages (from accelerate>=0.27.2->pysentimiento) (6.0.1)\n",
      "Requirement already satisfied: huggingface-hub>=0.21.0 in c:\\users\\hp\\appdata\\local\\programs\\python\\python312\\lib\\site-packages (from accelerate>=0.27.2->pysentimiento) (0.24.6)\n",
      "Requirement already satisfied: safetensors>=0.4.3 in c:\\users\\hp\\appdata\\local\\programs\\python\\python312\\lib\\site-packages (from accelerate>=0.27.2->pysentimiento) (0.4.5)\n",
      "Requirement already satisfied: filelock in c:\\users\\hp\\appdata\\local\\programs\\python\\python312\\lib\\site-packages (from datasets>=2.10.1->pysentimiento) (3.16.0)\n",
      "Requirement already satisfied: pyarrow>=15.0.0 in c:\\users\\hp\\appdata\\local\\programs\\python\\python312\\lib\\site-packages (from datasets>=2.10.1->pysentimiento) (17.0.0)\n",
      "Requirement already satisfied: dill<0.3.9,>=0.3.0 in c:\\users\\hp\\appdata\\local\\programs\\python\\python312\\lib\\site-packages (from datasets>=2.10.1->pysentimiento) (0.3.8)\n",
      "Requirement already satisfied: pandas in c:\\users\\hp\\appdata\\local\\programs\\python\\python312\\lib\\site-packages (from datasets>=2.10.1->pysentimiento) (2.2.1)\n",
      "Requirement already satisfied: requests>=2.32.2 in c:\\users\\hp\\appdata\\local\\programs\\python\\python312\\lib\\site-packages (from datasets>=2.10.1->pysentimiento) (2.32.2)\n",
      "Requirement already satisfied: tqdm>=4.66.3 in c:\\users\\hp\\appdata\\local\\programs\\python\\python312\\lib\\site-packages (from datasets>=2.10.1->pysentimiento) (4.66.4)\n",
      "Requirement already satisfied: xxhash in c:\\users\\hp\\appdata\\local\\programs\\python\\python312\\lib\\site-packages (from datasets>=2.10.1->pysentimiento) (3.5.0)\n",
      "Requirement already satisfied: multiprocess in c:\\users\\hp\\appdata\\local\\programs\\python\\python312\\lib\\site-packages (from datasets>=2.10.1->pysentimiento) (0.70.16)\n",
      "Requirement already satisfied: fsspec<=2024.6.1,>=2023.1.0 in c:\\users\\hp\\appdata\\local\\programs\\python\\python312\\lib\\site-packages (from fsspec[http]<=2024.6.1,>=2023.1.0->datasets>=2.10.1->pysentimiento) (2024.6.1)\n",
      "Requirement already satisfied: aiohttp in c:\\users\\hp\\appdata\\local\\programs\\python\\python312\\lib\\site-packages (from datasets>=2.10.1->pysentimiento) (3.10.5)\n",
      "Requirement already satisfied: typing-extensions>=4.7.0 in c:\\users\\hp\\appdata\\local\\programs\\python\\python312\\lib\\site-packages (from emoji>=1.6.1->pysentimiento) (4.12.0)\n",
      "Requirement already satisfied: spacy-legacy<3.1.0,>=3.0.11 in c:\\users\\hp\\appdata\\local\\programs\\python\\python312\\lib\\site-packages (from spacy>=3.5.0->pysentimiento) (3.0.12)\n",
      "Requirement already satisfied: spacy-loggers<2.0.0,>=1.0.0 in c:\\users\\hp\\appdata\\local\\programs\\python\\python312\\lib\\site-packages (from spacy>=3.5.0->pysentimiento) (1.0.5)\n",
      "Requirement already satisfied: murmurhash<1.1.0,>=0.28.0 in c:\\users\\hp\\appdata\\local\\programs\\python\\python312\\lib\\site-packages (from spacy>=3.5.0->pysentimiento) (1.0.10)\n",
      "Requirement already satisfied: cymem<2.1.0,>=2.0.2 in c:\\users\\hp\\appdata\\local\\programs\\python\\python312\\lib\\site-packages (from spacy>=3.5.0->pysentimiento) (2.0.8)\n",
      "Requirement already satisfied: preshed<3.1.0,>=3.0.2 in c:\\users\\hp\\appdata\\local\\programs\\python\\python312\\lib\\site-packages (from spacy>=3.5.0->pysentimiento) (3.0.9)\n",
      "Requirement already satisfied: thinc<8.3.0,>=8.2.2 in c:\\users\\hp\\appdata\\local\\programs\\python\\python312\\lib\\site-packages (from spacy>=3.5.0->pysentimiento) (8.2.5)\n",
      "Requirement already satisfied: wasabi<1.2.0,>=0.9.1 in c:\\users\\hp\\appdata\\local\\programs\\python\\python312\\lib\\site-packages (from spacy>=3.5.0->pysentimiento) (1.1.3)\n",
      "Requirement already satisfied: srsly<3.0.0,>=2.4.3 in c:\\users\\hp\\appdata\\local\\programs\\python\\python312\\lib\\site-packages (from spacy>=3.5.0->pysentimiento) (2.4.8)\n",
      "Requirement already satisfied: catalogue<2.1.0,>=2.0.6 in c:\\users\\hp\\appdata\\local\\programs\\python\\python312\\lib\\site-packages (from spacy>=3.5.0->pysentimiento) (2.0.10)\n",
      "Requirement already satisfied: weasel<0.5.0,>=0.1.0 in c:\\users\\hp\\appdata\\local\\programs\\python\\python312\\lib\\site-packages (from spacy>=3.5.0->pysentimiento) (0.4.1)\n",
      "Requirement already satisfied: typer<1.0.0,>=0.3.0 in c:\\users\\hp\\appdata\\local\\programs\\python\\python312\\lib\\site-packages (from spacy>=3.5.0->pysentimiento) (0.12.3)\n",
      "Requirement already satisfied: pydantic!=1.8,!=1.8.1,<3.0.0,>=1.7.4 in c:\\users\\hp\\appdata\\local\\programs\\python\\python312\\lib\\site-packages (from spacy>=3.5.0->pysentimiento) (2.7.1)\n",
      "Requirement already satisfied: jinja2 in c:\\users\\hp\\appdata\\local\\programs\\python\\python312\\lib\\site-packages (from spacy>=3.5.0->pysentimiento) (3.1.4)\n",
      "Requirement already satisfied: setuptools in c:\\users\\hp\\appdata\\local\\programs\\python\\python312\\lib\\site-packages (from spacy>=3.5.0->pysentimiento) (74.1.2)\n",
      "Requirement already satisfied: langcodes<4.0.0,>=3.2.0 in c:\\users\\hp\\appdata\\local\\programs\\python\\python312\\lib\\site-packages (from spacy>=3.5.0->pysentimiento) (3.4.0)\n",
      "Requirement already satisfied: sympy in c:\\users\\hp\\appdata\\local\\programs\\python\\python312\\lib\\site-packages (from torch!=2.0.1,>=2.0.0->pysentimiento) (1.13.2)\n",
      "Requirement already satisfied: networkx in c:\\users\\hp\\appdata\\local\\programs\\python\\python312\\lib\\site-packages (from torch!=2.0.1,>=2.0.0->pysentimiento) (3.3)\n",
      "Requirement already satisfied: regex!=2019.12.17 in c:\\users\\hp\\appdata\\local\\programs\\python\\python312\\lib\\site-packages (from transformers>=4.13.0->pysentimiento) (2024.7.24)\n",
      "Requirement already satisfied: tokenizers<0.20,>=0.19 in c:\\users\\hp\\appdata\\local\\programs\\python\\python312\\lib\\site-packages (from transformers>=4.13.0->pysentimiento) (0.19.1)\n",
      "Requirement already satisfied: aiohappyeyeballs>=2.3.0 in c:\\users\\hp\\appdata\\local\\programs\\python\\python312\\lib\\site-packages (from aiohttp->datasets>=2.10.1->pysentimiento) (2.4.0)\n",
      "Requirement already satisfied: aiosignal>=1.1.2 in c:\\users\\hp\\appdata\\local\\programs\\python\\python312\\lib\\site-packages (from aiohttp->datasets>=2.10.1->pysentimiento) (1.3.1)\n",
      "Requirement already satisfied: attrs>=17.3.0 in c:\\users\\hp\\appdata\\local\\programs\\python\\python312\\lib\\site-packages (from aiohttp->datasets>=2.10.1->pysentimiento) (23.2.0)\n",
      "Requirement already satisfied: frozenlist>=1.1.1 in c:\\users\\hp\\appdata\\local\\programs\\python\\python312\\lib\\site-packages (from aiohttp->datasets>=2.10.1->pysentimiento) (1.4.1)\n",
      "Requirement already satisfied: multidict<7.0,>=4.5 in c:\\users\\hp\\appdata\\local\\programs\\python\\python312\\lib\\site-packages (from aiohttp->datasets>=2.10.1->pysentimiento) (6.0.5)\n",
      "Requirement already satisfied: yarl<2.0,>=1.0 in c:\\users\\hp\\appdata\\local\\programs\\python\\python312\\lib\\site-packages (from aiohttp->datasets>=2.10.1->pysentimiento) (1.10.0)\n",
      "Requirement already satisfied: language-data>=1.2 in c:\\users\\hp\\appdata\\local\\programs\\python\\python312\\lib\\site-packages (from langcodes<4.0.0,>=3.2.0->spacy>=3.5.0->pysentimiento) (1.2.0)\n",
      "Requirement already satisfied: annotated-types>=0.4.0 in c:\\users\\hp\\appdata\\local\\programs\\python\\python312\\lib\\site-packages (from pydantic!=1.8,!=1.8.1,<3.0.0,>=1.7.4->spacy>=3.5.0->pysentimiento) (0.7.0)\n",
      "Requirement already satisfied: pydantic-core==2.18.2 in c:\\users\\hp\\appdata\\local\\programs\\python\\python312\\lib\\site-packages (from pydantic!=1.8,!=1.8.1,<3.0.0,>=1.7.4->spacy>=3.5.0->pysentimiento) (2.18.2)\n",
      "Requirement already satisfied: charset-normalizer<4,>=2 in c:\\users\\hp\\appdata\\local\\programs\\python\\python312\\lib\\site-packages (from requests>=2.32.2->datasets>=2.10.1->pysentimiento) (3.3.2)\n",
      "Requirement already satisfied: idna<4,>=2.5 in c:\\users\\hp\\appdata\\local\\programs\\python\\python312\\lib\\site-packages (from requests>=2.32.2->datasets>=2.10.1->pysentimiento) (3.7)\n",
      "Requirement already satisfied: urllib3<3,>=1.21.1 in c:\\users\\hp\\appdata\\local\\programs\\python\\python312\\lib\\site-packages (from requests>=2.32.2->datasets>=2.10.1->pysentimiento) (2.2.1)\n",
      "Requirement already satisfied: certifi>=2017.4.17 in c:\\users\\hp\\appdata\\local\\programs\\python\\python312\\lib\\site-packages (from requests>=2.32.2->datasets>=2.10.1->pysentimiento) (2024.2.2)\n",
      "Requirement already satisfied: blis<0.8.0,>=0.7.8 in c:\\users\\hp\\appdata\\local\\programs\\python\\python312\\lib\\site-packages (from thinc<8.3.0,>=8.2.2->spacy>=3.5.0->pysentimiento) (0.7.11)\n",
      "Requirement already satisfied: confection<1.0.0,>=0.0.1 in c:\\users\\hp\\appdata\\local\\programs\\python\\python312\\lib\\site-packages (from thinc<8.3.0,>=8.2.2->spacy>=3.5.0->pysentimiento) (0.1.5)\n",
      "Requirement already satisfied: colorama in c:\\users\\hp\\appdata\\local\\programs\\python\\python312\\lib\\site-packages (from tqdm>=4.66.3->datasets>=2.10.1->pysentimiento) (0.4.6)\n",
      "Requirement already satisfied: click>=8.0.0 in c:\\users\\hp\\appdata\\local\\programs\\python\\python312\\lib\\site-packages (from typer<1.0.0,>=0.3.0->spacy>=3.5.0->pysentimiento) (8.1.7)\n",
      "Requirement already satisfied: shellingham>=1.3.0 in c:\\users\\hp\\appdata\\local\\programs\\python\\python312\\lib\\site-packages (from typer<1.0.0,>=0.3.0->spacy>=3.5.0->pysentimiento) (1.5.4)\n",
      "Requirement already satisfied: rich>=10.11.0 in c:\\users\\hp\\appdata\\local\\programs\\python\\python312\\lib\\site-packages (from typer<1.0.0,>=0.3.0->spacy>=3.5.0->pysentimiento) (13.7.1)\n",
      "Requirement already satisfied: cloudpathlib<1.0.0,>=0.7.0 in c:\\users\\hp\\appdata\\local\\programs\\python\\python312\\lib\\site-packages (from weasel<0.5.0,>=0.1.0->spacy>=3.5.0->pysentimiento) (0.19.0)\n",
      "Requirement already satisfied: smart-open<8.0.0,>=5.2.1 in c:\\users\\hp\\appdata\\local\\programs\\python\\python312\\lib\\site-packages (from weasel<0.5.0,>=0.1.0->spacy>=3.5.0->pysentimiento) (7.0.4)\n",
      "Requirement already satisfied: MarkupSafe>=2.0 in c:\\users\\hp\\appdata\\local\\programs\\python\\python312\\lib\\site-packages (from jinja2->spacy>=3.5.0->pysentimiento) (2.1.5)\n",
      "Requirement already satisfied: python-dateutil>=2.8.2 in c:\\users\\hp\\appdata\\local\\programs\\python\\python312\\lib\\site-packages (from pandas->datasets>=2.10.1->pysentimiento) (2.9.0.post0)\n",
      "Requirement already satisfied: pytz>=2020.1 in c:\\users\\hp\\appdata\\local\\programs\\python\\python312\\lib\\site-packages (from pandas->datasets>=2.10.1->pysentimiento) (2024.1)\n",
      "Requirement already satisfied: tzdata>=2022.7 in c:\\users\\hp\\appdata\\local\\programs\\python\\python312\\lib\\site-packages (from pandas->datasets>=2.10.1->pysentimiento) (2024.1)\n",
      "Requirement already satisfied: mpmath<1.4,>=1.1.0 in c:\\users\\hp\\appdata\\local\\programs\\python\\python312\\lib\\site-packages (from sympy->torch!=2.0.1,>=2.0.0->pysentimiento) (1.3.0)\n",
      "Requirement already satisfied: marisa-trie>=0.7.7 in c:\\users\\hp\\appdata\\local\\programs\\python\\python312\\lib\\site-packages (from language-data>=1.2->langcodes<4.0.0,>=3.2.0->spacy>=3.5.0->pysentimiento) (1.2.0)\n",
      "Requirement already satisfied: six>=1.5 in c:\\users\\hp\\appdata\\local\\programs\\python\\python312\\lib\\site-packages (from python-dateutil>=2.8.2->pandas->datasets>=2.10.1->pysentimiento) (1.16.0)\n",
      "Requirement already satisfied: markdown-it-py>=2.2.0 in c:\\users\\hp\\appdata\\local\\programs\\python\\python312\\lib\\site-packages (from rich>=10.11.0->typer<1.0.0,>=0.3.0->spacy>=3.5.0->pysentimiento) (3.0.0)\n",
      "Requirement already satisfied: pygments<3.0.0,>=2.13.0 in c:\\users\\hp\\appdata\\local\\programs\\python\\python312\\lib\\site-packages (from rich>=10.11.0->typer<1.0.0,>=0.3.0->spacy>=3.5.0->pysentimiento) (2.18.0)\n",
      "Requirement already satisfied: wrapt in c:\\users\\hp\\appdata\\local\\programs\\python\\python312\\lib\\site-packages (from smart-open<8.0.0,>=5.2.1->weasel<0.5.0,>=0.1.0->spacy>=3.5.0->pysentimiento) (1.16.0)\n",
      "Requirement already satisfied: mdurl~=0.1 in c:\\users\\hp\\appdata\\local\\programs\\python\\python312\\lib\\site-packages (from markdown-it-py>=2.2.0->rich>=10.11.0->typer<1.0.0,>=0.3.0->spacy>=3.5.0->pysentimiento) (0.1.2)\n"
     ]
    }
   ],
   "source": [
    " !pip install pysentimiento"
   ]
  },
  {
   "cell_type": "code",
   "execution_count": 2,
   "id": "157a4ddb-c909-49fe-8e43-5dee2e15b201",
   "metadata": {},
   "outputs": [
    {
     "name": "stdout",
     "output_type": "stream",
     "text": [
      "WARNING:tensorflow:From C:\\Users\\HP\\AppData\\Local\\Programs\\Python\\Python312\\Lib\\site-packages\\tf_keras\\src\\losses.py:2976: The name tf.losses.sparse_softmax_cross_entropy is deprecated. Please use tf.compat.v1.losses.sparse_softmax_cross_entropy instead.\n",
      "\n"
     ]
    }
   ],
   "source": [
    "from pysentimiento import create_analyzer"
   ]
  },
  {
   "cell_type": "code",
   "execution_count": 3,
   "id": "c8a9dc8b-61b7-41c4-b0f2-f13bf485b848",
   "metadata": {},
   "outputs": [
    {
     "name": "stderr",
     "output_type": "stream",
     "text": [
      "C:\\Users\\HP\\AppData\\Local\\Programs\\Python\\Python312\\Lib\\site-packages\\transformers\\tokenization_utils_base.py:1601: FutureWarning: `clean_up_tokenization_spaces` was not set. It will be set to `True` by default. This behavior will be depracted in transformers v4.45, and will be then set to `False` by default. For more details check this issue: https://github.com/huggingface/transformers/issues/31884\n",
      "  warnings.warn(\n"
     ]
    },
    {
     "data": {
      "text/plain": [
       "'anger'"
      ]
     },
     "execution_count": 3,
     "metadata": {},
     "output_type": "execute_result"
    }
   ],
   "source": [
    "emotion = create_analyzer(task='emotion',lang='en')\n",
    "result = emotion.predict(\"get out of my sight\")\n",
    "result.output"
   ]
  },
  {
   "cell_type": "code",
   "execution_count": 4,
   "id": "5a94dcce-50be-4a42-b9d8-71d4972127f5",
   "metadata": {},
   "outputs": [
    {
     "data": {
      "text/plain": [
       "'fear'"
      ]
     },
     "execution_count": 4,
     "metadata": {},
     "output_type": "execute_result"
    }
   ],
   "source": [
    "def emotion_detection(text):\n",
    "  emotion = create_analyzer(task='emotion',lang='en')\n",
    "  result = emotion.predict(text)\n",
    "  return result.output\n",
    "emotion_detection(\"I am scared of learning mathematcis\")"
   ]
  },
  {
   "cell_type": "markdown",
   "id": "19d07d16-9a55-405f-83dc-ad53111e5b6c",
   "metadata": {},
   "source": [
    "*heate speech detection*"
   ]
  },
  {
   "cell_type": "code",
   "execution_count": 5,
   "id": "32dcd3bd-f91c-4358-9306-f45453dae03a",
   "metadata": {},
   "outputs": [
    {
     "data": {
      "text/plain": [
       "[]"
      ]
     },
     "execution_count": 5,
     "metadata": {},
     "output_type": "execute_result"
    }
   ],
   "source": [
    "hatespeech = create_analyzer(task='hate_speech', lang='en')\n",
    "result = hatespeech.predict(\"I hate eating apples. that's why i don't want to sit with appple seller\")\n",
    "# next(iter(result.probas,None))\n",
    "# next(iter(result.probas.items()),None)\n",
    "result.output"
   ]
  },
  {
   "cell_type": "code",
   "execution_count": 6,
   "id": "4ecd6304-02f0-4e15-bf07-500318512393",
   "metadata": {},
   "outputs": [
    {
     "data": {
      "text/plain": [
       "('hateful', 0.030125711113214493)"
      ]
     },
     "execution_count": 6,
     "metadata": {},
     "output_type": "execute_result"
    }
   ],
   "source": [
    "def hatespeech_detection(text):\n",
    "  hatespeech = create_analyzer(task='hate_speech', lang='en')\n",
    "  result = hatespeech.predict(text)\n",
    "  return next(iter(result.probas.items()),None)\n",
    "hatespeech_detection(\"I hate eating apples. that's why i don't want to sit with appple seller\")\n"
   ]
  },
  {
   "cell_type": "markdown",
   "id": "18eef414-07d2-46e6-882a-63489c1a33ef",
   "metadata": {},
   "source": [
    "predictive system"
   ]
  },
  {
   "cell_type": "code",
   "execution_count": 7,
   "id": "f3f476c0-af7c-44b2-8e29-e5ca1266b7a5",
   "metadata": {},
   "outputs": [],
   "source": [
    "text = \"\"\"I woke up this morning feeling incredibly happy and grateful for the beautiful weather outside.\n",
    " The sun was shining, birds were singing, and there was a gentle breeze in the air. It felt like the\n",
    " perfect day to go for a long walk in the park.\"\"\""
   ]
  },
  {
   "cell_type": "code",
   "execution_count": 8,
   "id": "fb34dc83-fbd8-465b-a786-744e7181ac47",
   "metadata": {},
   "outputs": [
    {
     "name": "stdout",
     "output_type": "stream",
     "text": [
      "Emotion : joy\n",
      "Speech : ('hateful', 0.015868615359067917)\n"
     ]
    }
   ],
   "source": [
    "emo = emotion_detection(text)\n",
    "hate = hatespeech_detection(text)\n",
    "\n",
    "print(\"Emotion :\", emo)\n",
    "print(\"Speech :\", hate)"
   ]
  },
  {
   "cell_type": "code",
   "execution_count": 9,
   "id": "bd9e56fe-fc5b-48d9-afd0-b02df0b4469e",
   "metadata": {},
   "outputs": [],
   "source": [
    "# Example 2:\n",
    "text = \"\"\"In the evening, I decided to unwind by watching a comedy show. The hilarious jokes and witty banter lifted my spirits, and I found myself laughing uncontrollably.\n",
    " Laughter truly is the best medicine, and it was the perfect way to end the day on a positive note.\n",
    "\"\"\""
   ]
  },
  {
   "cell_type": "code",
   "execution_count": 10,
   "id": "2ffc413a-5c30-4c02-8113-ef9d787f6200",
   "metadata": {},
   "outputs": [
    {
     "name": "stdout",
     "output_type": "stream",
     "text": [
      "Emotion : joy\n",
      "Speech : ('hateful', 0.014117322862148285)\n"
     ]
    }
   ],
   "source": [
    "emo = emotion_detection(text)\n",
    "hate = hatespeech_detection(text)\n",
    "\n",
    "print(\"Emotion :\", emo)\n",
    "print(\"Speech :\", hate)"
   ]
  },
  {
   "cell_type": "code",
   "execution_count": null,
   "id": "1b06d673-db54-401c-a141-ee53e1e15e25",
   "metadata": {},
   "outputs": [],
   "source": []
  }
 ],
 "metadata": {
  "kernelspec": {
   "display_name": "Python 3 (ipykernel)",
   "language": "python",
   "name": "python3"
  },
  "language_info": {
   "codemirror_mode": {
    "name": "ipython",
    "version": 3
   },
   "file_extension": ".py",
   "mimetype": "text/x-python",
   "name": "python",
   "nbconvert_exporter": "python",
   "pygments_lexer": "ipython3",
   "version": "3.12.2"
  }
 },
 "nbformat": 4,
 "nbformat_minor": 5
}
