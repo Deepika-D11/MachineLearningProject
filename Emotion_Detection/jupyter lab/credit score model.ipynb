{
 "cells": [
  {
   "cell_type": "markdown",
   "id": "71c367c7-30e9-421a-b27d-1c00e2a57bff",
   "metadata": {},
   "source": [
    "***welcome to jupyter notebook***"
   ]
  },
  {
   "cell_type": "code",
   "execution_count": 1,
   "id": "dd335e2b-418b-41d1-a08f-9908ea04194c",
   "metadata": {},
   "outputs": [],
   "source": [
    "import pandas as pd \n",
    "import numpy as np\n",
    "#from sklearn import DicisionTree Classifire"
   ]
  },
  {
   "cell_type": "code",
   "execution_count": null,
   "id": "45163350-b75d-4b81-af91-fff500746f43",
   "metadata": {},
   "outputs": [],
   "source": []
  }
 ],
 "metadata": {
  "kernelspec": {
   "display_name": "Python 3 (ipykernel)",
   "language": "python",
   "name": "python3"
  },
  "language_info": {
   "codemirror_mode": {
    "name": "ipython",
    "version": 3
   },
   "file_extension": ".py",
   "mimetype": "text/x-python",
   "name": "python",
   "nbconvert_exporter": "python",
   "pygments_lexer": "ipython3",
   "version": "3.12.2"
  }
 },
 "nbformat": 4,
 "nbformat_minor": 5
}
